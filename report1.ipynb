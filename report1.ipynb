{
 "cells": [
  {
   "cell_type": "markdown",
   "metadata": {},
   "source": [
    "# 課題1. 決定木による分類\n",
    "必要なライブラリの読み込み。"
   ]
  },
  {
   "cell_type": "code",
   "execution_count": null,
   "metadata": {},
   "outputs": [],
   "source": [
    "%matplotlib inline\n",
    "import matplotlib.pyplot as plt\n",
    "import numpy as np"
   ]
  },
  {
   "cell_type": "markdown",
   "metadata": {},
   "source": [
    "分類対象となる平面内に分布した点を生成。"
   ]
  },
  {
   "cell_type": "code",
   "execution_count": null,
   "metadata": {},
   "outputs": [],
   "source": [
    "L = 10  # 領域の一辺の長さ\n",
    "N = 50  # 点の数\n",
    "B = L/2  # 市松模様の境界値\n",
    "\n",
    "np.random.seed(1234)\n",
    "X = np.random.rand(N, 2) * L\n",
    "y = []\n",
    "for i in range(N):\n",
    "    x_, y_ = X[i, :]\n",
    "    if x_ < B and y_ < B or x_ > B and y_ > B:\n",
    "        y.append(1)\n",
    "    else:\n",
    "        y.append(0)\n",
    "\n",
    "colors = ['blue' if yi == 1 else 'red' for yi in y]\n",
    "plt.scatter(X[:, 0], X[:, 1], c=colors)"
   ]
  },
  {
   "cell_type": "markdown",
   "metadata": {},
   "source": [
    "決定木モデルにより上のデータを学習し、決定木を可視化。"
   ]
  },
  {
   "cell_type": "code",
   "execution_count": null,
   "metadata": {},
   "outputs": [],
   "source": [
    "from sklearn.tree import DecisionTreeClassifier\n",
    "from sklearn.tree import plot_tree\n",
    "\n",
    "model = DecisionTreeClassifier(random_state=20)\n",
    "model.fit(X, y)\n",
    "plt.figure(figsize=(12, 6))\n",
    "plot_tree(model, class_names=[\"red\", \"blue\"], feature_names=['x', 'y'],\n",
    "          impurity=False, filled=True, fontsize=16);"
   ]
  },
  {
   "cell_type": "markdown",
   "metadata": {},
   "source": [
    "## 問題1\n",
    "座標 $(x, y) = (5.5, 4.0)$ の点が赤 (ラベル値は0)、青 (ラベル値は1) のどちらに分類されるか、上の決定木から手で求めよ。"
   ]
  },
  {
   "cell_type": "code",
   "execution_count": null,
   "metadata": {},
   "outputs": [],
   "source": [
    "# 次行にラベル値を書け\n"
   ]
  },
  {
   "cell_type": "markdown",
   "metadata": {},
   "source": [
    "## 問題2\n",
    "同じく座標 $(x, y) = (5.5, 4.0)$ の点が赤 (ラベル値は0)、青 (ラベル値は1) のどちらに分類されるか、学習済みモデルを用いてプログラム的に求めよ。\n",
    "<br>\n",
    "ヒント1: model オブジェクトの predict メソッドを使う。\n",
    "<br>\n",
    "ヒント2: predict メソッドの引数には2次元ベクトルではなく、1行2列の行列を与える必要がある。"
   ]
  },
  {
   "cell_type": "code",
   "execution_count": null,
   "metadata": {},
   "outputs": [],
   "source": []
  }
 ],
 "metadata": {
  "kernelspec": {
   "display_name": "Python 3",
   "language": "python",
   "name": "python3"
  },
  "language_info": {
   "codemirror_mode": {
    "name": "ipython",
    "version": 3
   },
   "file_extension": ".py",
   "mimetype": "text/x-python",
   "name": "python",
   "nbconvert_exporter": "python",
   "pygments_lexer": "ipython3",
   "version": "3.6.9"
  }
 },
 "nbformat": 4,
 "nbformat_minor": 2
}
